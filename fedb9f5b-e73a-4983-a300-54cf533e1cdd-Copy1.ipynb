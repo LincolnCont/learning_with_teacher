{
 "cells": [
  {
   "cell_type": "markdown",
   "metadata": {},
   "source": [
    "<div style=\"border:solid Chocolate 2px; padding: 40px\">\n",
    " \n",
    "<b> Сергей, привет!👋</b>  \n",
    "\n",
    "Меня зовут Кирилл Васильев, я буду ревьюером твоего проекта. Я предлагаю общаться на «ты», но если привычнее на «вы», просто скажи об этом! \n",
    "\n",
    "Я буду оставлять комментарии в твоем проекте. Пожалуйста, не удаляй их, они могут быть полезны в случае повторной проверки.\n",
    "\n",
    "Ты можешь реагировать на комментарии как просто написав их в Markdown-ячейках, так и выделив их цветом. Например, <font color='blue'>синим</font>. Второй способ, на мой взгляд, удобнее.\n",
    "\n",
    "Свои комментарии я буду обозначать <font color='green'>зеленым</font>, <font color='gold'>желтым</font> и <font color='red'>красным</font> цветами, например:\n",
    "  \n",
    "<br/>\n",
    "\n",
    "<div class=\"alert alert-success\">\n",
    "<h2> Комментарий ревьюера <a class=\"tocSkip\"> </h2>\n",
    "\n",
    "<b>Все отлично!👍:</b> В случае, если решение на отдельном шаге является полностью правильным. Здесь же я могу давать советы и предложения.\n",
    "</div>\n",
    "\n",
    "<br/>\n",
    "\n",
    "<div class=\"alert alert-warning\">\n",
    "    <h2> Комментарий ревьюера <a class=\"tocSkip\"> </h2>\n",
    "    \n",
    "<b>Некоторые замечания и рекомендации💡:</b> В случае, когда решение на отдельном шаге станет еще лучше, если внести небольшие коррективы.\n",
    "</div>\n",
    "\n",
    "\n",
    "<br/>\n",
    "<div class=\"alert alert-block alert-danger\">\n",
    "<h2> Комментарий ревьюера <a class=\"tocSkip\"></h2>\n",
    "\n",
    "    \n",
    "<b>На доработку🤔:</b>\n",
    " В случае, когда решение на отдельном шаге требует существенной переработки и внесения правок. Напоминаю, что проект не может быть принят с первого раза, если ревью содержит комментарии, рекомендующие доработать шаги.\n",
    "</div>\n",
    "    \n",
    "Увидев у тебя неточность, в первый раз я лишь укажу на ее наличие и дам тебе возможность самому найти и исправить ее. На реальной работе твой руководитель будет поступать также. Но если ты пока не справишься с такой задачей - при следующей проверке я дам более точную подсказку! "
   ]
  },
  {
   "cell_type": "markdown",
   "metadata": {
    "toc": true
   },
   "source": [
    "<h1>Содержание<span class=\"tocSkip\"></span></h1>\n",
    "<div class=\"toc\"><ul class=\"toc-item\"><li><span><a href=\"#Подготовка-данных\" data-toc-modified-id=\"Подготовка-данных-1\"><span class=\"toc-item-num\">1&nbsp;&nbsp;</span>Подготовка данных</a></span></li><li><span><a href=\"#Исследование-задачи\" data-toc-modified-id=\"Исследование-задачи-2\"><span class=\"toc-item-num\">2&nbsp;&nbsp;</span>Исследование задачи</a></span></li><li><span><a href=\"#Борьба-с-дисбалансом\" data-toc-modified-id=\"Борьба-с-дисбалансом-3\"><span class=\"toc-item-num\">3&nbsp;&nbsp;</span>Борьба с дисбалансом</a></span></li><li><span><a href=\"#Тестирование-модели\" data-toc-modified-id=\"Тестирование-модели-4\"><span class=\"toc-item-num\">4&nbsp;&nbsp;</span>Тестирование модели</a></span></li><li><span><a href=\"#Вывод\" data-toc-modified-id=\"Вывод-5\"><span class=\"toc-item-num\">5&nbsp;&nbsp;</span>Вывод</a></span></li><li><span><a href=\"#Чек-лист-готовности-проекта\" data-toc-modified-id=\"Чек-лист-готовности-проекта-6\"><span class=\"toc-item-num\">6&nbsp;&nbsp;</span>Чек-лист готовности проекта</a></span></li></ul></div>"
   ]
  },
  {
   "cell_type": "markdown",
   "metadata": {},
   "source": [
    "# Отток клиентов"
   ]
  },
  {
   "cell_type": "markdown",
   "metadata": {},
   "source": [
    "Из «Бета-Банка» стали уходить клиенты. Каждый месяц. Немного, но заметно. Банковские маркетологи посчитали: сохранять текущих клиентов дешевле, чем привлекать новых.\n",
    "\n",
    "Нужно спрогнозировать, уйдёт клиент из банка в ближайшее время или нет. Вам предоставлены исторические данные о поведении клиентов и расторжении договоров с банком. \n",
    "\n",
    "Постройте модель с предельно большим значением *F1*-меры. Чтобы сдать проект успешно, нужно довести метрику до 0.59. Проверьте *F1*-меру на тестовой выборке самостоятельно.\n",
    "\n",
    "Дополнительно измеряйте *AUC-ROC*, сравнивайте её значение с *F1*-мерой.\n",
    "\n",
    "Источник данных: [https://www.kaggle.com/barelydedicated/bank-customer-churn-modeling](https://www.kaggle.com/barelydedicated/bank-customer-churn-modeling)"
   ]
  },
  {
   "cell_type": "markdown",
   "metadata": {},
   "source": [
    "## Подготовка данных"
   ]
  },
  {
   "cell_type": "code",
   "execution_count": 2,
   "metadata": {},
   "outputs": [],
   "source": [
    "import pandas as pd\n",
    "import numpy as np\n",
    "from sklearn.linear_model import LogisticRegression\n",
    "from sklearn.ensemble import RandomForestClassifier\n",
    "from sklearn.model_selection import train_test_split\n",
    "from sklearn.preprocessing import StandardScaler, OrdinalEncoder\n",
    "from sklearn.metrics import accuracy_score, confusion_matrix, f1_score, roc_curve, roc_auc_score\n",
    "from sklearn.utils import shuffle\n",
    "import warnings\n",
    "warnings.filterwarnings('ignore')"
   ]
  },
  {
   "cell_type": "code",
   "execution_count": 3,
   "metadata": {},
   "outputs": [
    {
     "data": {
      "text/html": [
       "<div>\n",
       "<style scoped>\n",
       "    .dataframe tbody tr th:only-of-type {\n",
       "        vertical-align: middle;\n",
       "    }\n",
       "\n",
       "    .dataframe tbody tr th {\n",
       "        vertical-align: top;\n",
       "    }\n",
       "\n",
       "    .dataframe thead th {\n",
       "        text-align: right;\n",
       "    }\n",
       "</style>\n",
       "<table border=\"1\" class=\"dataframe\">\n",
       "  <thead>\n",
       "    <tr style=\"text-align: right;\">\n",
       "      <th></th>\n",
       "      <th>RowNumber</th>\n",
       "      <th>CustomerId</th>\n",
       "      <th>Surname</th>\n",
       "      <th>CreditScore</th>\n",
       "      <th>Geography</th>\n",
       "      <th>Gender</th>\n",
       "      <th>Age</th>\n",
       "      <th>Tenure</th>\n",
       "      <th>Balance</th>\n",
       "      <th>NumOfProducts</th>\n",
       "      <th>HasCrCard</th>\n",
       "      <th>IsActiveMember</th>\n",
       "      <th>EstimatedSalary</th>\n",
       "      <th>Exited</th>\n",
       "    </tr>\n",
       "  </thead>\n",
       "  <tbody>\n",
       "    <tr>\n",
       "      <th>0</th>\n",
       "      <td>1</td>\n",
       "      <td>15634602</td>\n",
       "      <td>Hargrave</td>\n",
       "      <td>619</td>\n",
       "      <td>France</td>\n",
       "      <td>Female</td>\n",
       "      <td>42</td>\n",
       "      <td>2.0</td>\n",
       "      <td>0.00</td>\n",
       "      <td>1</td>\n",
       "      <td>1</td>\n",
       "      <td>1</td>\n",
       "      <td>101348.88</td>\n",
       "      <td>1</td>\n",
       "    </tr>\n",
       "    <tr>\n",
       "      <th>1</th>\n",
       "      <td>2</td>\n",
       "      <td>15647311</td>\n",
       "      <td>Hill</td>\n",
       "      <td>608</td>\n",
       "      <td>Spain</td>\n",
       "      <td>Female</td>\n",
       "      <td>41</td>\n",
       "      <td>1.0</td>\n",
       "      <td>83807.86</td>\n",
       "      <td>1</td>\n",
       "      <td>0</td>\n",
       "      <td>1</td>\n",
       "      <td>112542.58</td>\n",
       "      <td>0</td>\n",
       "    </tr>\n",
       "    <tr>\n",
       "      <th>2</th>\n",
       "      <td>3</td>\n",
       "      <td>15619304</td>\n",
       "      <td>Onio</td>\n",
       "      <td>502</td>\n",
       "      <td>France</td>\n",
       "      <td>Female</td>\n",
       "      <td>42</td>\n",
       "      <td>8.0</td>\n",
       "      <td>159660.80</td>\n",
       "      <td>3</td>\n",
       "      <td>1</td>\n",
       "      <td>0</td>\n",
       "      <td>113931.57</td>\n",
       "      <td>1</td>\n",
       "    </tr>\n",
       "    <tr>\n",
       "      <th>3</th>\n",
       "      <td>4</td>\n",
       "      <td>15701354</td>\n",
       "      <td>Boni</td>\n",
       "      <td>699</td>\n",
       "      <td>France</td>\n",
       "      <td>Female</td>\n",
       "      <td>39</td>\n",
       "      <td>1.0</td>\n",
       "      <td>0.00</td>\n",
       "      <td>2</td>\n",
       "      <td>0</td>\n",
       "      <td>0</td>\n",
       "      <td>93826.63</td>\n",
       "      <td>0</td>\n",
       "    </tr>\n",
       "    <tr>\n",
       "      <th>4</th>\n",
       "      <td>5</td>\n",
       "      <td>15737888</td>\n",
       "      <td>Mitchell</td>\n",
       "      <td>850</td>\n",
       "      <td>Spain</td>\n",
       "      <td>Female</td>\n",
       "      <td>43</td>\n",
       "      <td>2.0</td>\n",
       "      <td>125510.82</td>\n",
       "      <td>1</td>\n",
       "      <td>1</td>\n",
       "      <td>1</td>\n",
       "      <td>79084.10</td>\n",
       "      <td>0</td>\n",
       "    </tr>\n",
       "  </tbody>\n",
       "</table>\n",
       "</div>"
      ],
      "text/plain": [
       "   RowNumber  CustomerId   Surname  CreditScore Geography  Gender  Age  \\\n",
       "0          1    15634602  Hargrave          619    France  Female   42   \n",
       "1          2    15647311      Hill          608     Spain  Female   41   \n",
       "2          3    15619304      Onio          502    France  Female   42   \n",
       "3          4    15701354      Boni          699    France  Female   39   \n",
       "4          5    15737888  Mitchell          850     Spain  Female   43   \n",
       "\n",
       "   Tenure    Balance  NumOfProducts  HasCrCard  IsActiveMember  \\\n",
       "0     2.0       0.00              1          1               1   \n",
       "1     1.0   83807.86              1          0               1   \n",
       "2     8.0  159660.80              3          1               0   \n",
       "3     1.0       0.00              2          0               0   \n",
       "4     2.0  125510.82              1          1               1   \n",
       "\n",
       "   EstimatedSalary  Exited  \n",
       "0        101348.88       1  \n",
       "1        112542.58       0  \n",
       "2        113931.57       1  \n",
       "3         93826.63       0  \n",
       "4         79084.10       0  "
      ]
     },
     "execution_count": 3,
     "metadata": {},
     "output_type": "execute_result"
    }
   ],
   "source": [
    "df = pd.read_csv('/datasets/Churn.csv')\n",
    "df.head()"
   ]
  },
  {
   "cell_type": "code",
   "execution_count": 4,
   "metadata": {},
   "outputs": [
    {
     "name": "stdout",
     "output_type": "stream",
     "text": [
      "<class 'pandas.core.frame.DataFrame'>\n",
      "RangeIndex: 10000 entries, 0 to 9999\n",
      "Data columns (total 14 columns):\n",
      " #   Column           Non-Null Count  Dtype  \n",
      "---  ------           --------------  -----  \n",
      " 0   RowNumber        10000 non-null  int64  \n",
      " 1   CustomerId       10000 non-null  int64  \n",
      " 2   Surname          10000 non-null  object \n",
      " 3   CreditScore      10000 non-null  int64  \n",
      " 4   Geography        10000 non-null  object \n",
      " 5   Gender           10000 non-null  object \n",
      " 6   Age              10000 non-null  int64  \n",
      " 7   Tenure           9091 non-null   float64\n",
      " 8   Balance          10000 non-null  float64\n",
      " 9   NumOfProducts    10000 non-null  int64  \n",
      " 10  HasCrCard        10000 non-null  int64  \n",
      " 11  IsActiveMember   10000 non-null  int64  \n",
      " 12  EstimatedSalary  10000 non-null  float64\n",
      " 13  Exited           10000 non-null  int64  \n",
      "dtypes: float64(3), int64(8), object(3)\n",
      "memory usage: 1.1+ MB\n"
     ]
    },
    {
     "data": {
      "text/plain": [
       "None"
      ]
     },
     "metadata": {},
     "output_type": "display_data"
    },
    {
     "data": {
      "text/html": [
       "<div>\n",
       "<style scoped>\n",
       "    .dataframe tbody tr th:only-of-type {\n",
       "        vertical-align: middle;\n",
       "    }\n",
       "\n",
       "    .dataframe tbody tr th {\n",
       "        vertical-align: top;\n",
       "    }\n",
       "\n",
       "    .dataframe thead th {\n",
       "        text-align: right;\n",
       "    }\n",
       "</style>\n",
       "<table border=\"1\" class=\"dataframe\">\n",
       "  <thead>\n",
       "    <tr style=\"text-align: right;\">\n",
       "      <th></th>\n",
       "      <th>RowNumber</th>\n",
       "      <th>CustomerId</th>\n",
       "      <th>CreditScore</th>\n",
       "      <th>Age</th>\n",
       "      <th>Tenure</th>\n",
       "      <th>Balance</th>\n",
       "      <th>NumOfProducts</th>\n",
       "      <th>HasCrCard</th>\n",
       "      <th>IsActiveMember</th>\n",
       "      <th>EstimatedSalary</th>\n",
       "      <th>Exited</th>\n",
       "    </tr>\n",
       "  </thead>\n",
       "  <tbody>\n",
       "    <tr>\n",
       "      <th>count</th>\n",
       "      <td>10000.00000</td>\n",
       "      <td>1.000000e+04</td>\n",
       "      <td>10000.000000</td>\n",
       "      <td>10000.000000</td>\n",
       "      <td>9091.000000</td>\n",
       "      <td>10000.000000</td>\n",
       "      <td>10000.000000</td>\n",
       "      <td>10000.00000</td>\n",
       "      <td>10000.000000</td>\n",
       "      <td>10000.000000</td>\n",
       "      <td>10000.000000</td>\n",
       "    </tr>\n",
       "    <tr>\n",
       "      <th>mean</th>\n",
       "      <td>5000.50000</td>\n",
       "      <td>1.569094e+07</td>\n",
       "      <td>650.528800</td>\n",
       "      <td>38.921800</td>\n",
       "      <td>4.997690</td>\n",
       "      <td>76485.889288</td>\n",
       "      <td>1.530200</td>\n",
       "      <td>0.70550</td>\n",
       "      <td>0.515100</td>\n",
       "      <td>100090.239881</td>\n",
       "      <td>0.203700</td>\n",
       "    </tr>\n",
       "    <tr>\n",
       "      <th>std</th>\n",
       "      <td>2886.89568</td>\n",
       "      <td>7.193619e+04</td>\n",
       "      <td>96.653299</td>\n",
       "      <td>10.487806</td>\n",
       "      <td>2.894723</td>\n",
       "      <td>62397.405202</td>\n",
       "      <td>0.581654</td>\n",
       "      <td>0.45584</td>\n",
       "      <td>0.499797</td>\n",
       "      <td>57510.492818</td>\n",
       "      <td>0.402769</td>\n",
       "    </tr>\n",
       "    <tr>\n",
       "      <th>min</th>\n",
       "      <td>1.00000</td>\n",
       "      <td>1.556570e+07</td>\n",
       "      <td>350.000000</td>\n",
       "      <td>18.000000</td>\n",
       "      <td>0.000000</td>\n",
       "      <td>0.000000</td>\n",
       "      <td>1.000000</td>\n",
       "      <td>0.00000</td>\n",
       "      <td>0.000000</td>\n",
       "      <td>11.580000</td>\n",
       "      <td>0.000000</td>\n",
       "    </tr>\n",
       "    <tr>\n",
       "      <th>25%</th>\n",
       "      <td>2500.75000</td>\n",
       "      <td>1.562853e+07</td>\n",
       "      <td>584.000000</td>\n",
       "      <td>32.000000</td>\n",
       "      <td>2.000000</td>\n",
       "      <td>0.000000</td>\n",
       "      <td>1.000000</td>\n",
       "      <td>0.00000</td>\n",
       "      <td>0.000000</td>\n",
       "      <td>51002.110000</td>\n",
       "      <td>0.000000</td>\n",
       "    </tr>\n",
       "    <tr>\n",
       "      <th>50%</th>\n",
       "      <td>5000.50000</td>\n",
       "      <td>1.569074e+07</td>\n",
       "      <td>652.000000</td>\n",
       "      <td>37.000000</td>\n",
       "      <td>5.000000</td>\n",
       "      <td>97198.540000</td>\n",
       "      <td>1.000000</td>\n",
       "      <td>1.00000</td>\n",
       "      <td>1.000000</td>\n",
       "      <td>100193.915000</td>\n",
       "      <td>0.000000</td>\n",
       "    </tr>\n",
       "    <tr>\n",
       "      <th>75%</th>\n",
       "      <td>7500.25000</td>\n",
       "      <td>1.575323e+07</td>\n",
       "      <td>718.000000</td>\n",
       "      <td>44.000000</td>\n",
       "      <td>7.000000</td>\n",
       "      <td>127644.240000</td>\n",
       "      <td>2.000000</td>\n",
       "      <td>1.00000</td>\n",
       "      <td>1.000000</td>\n",
       "      <td>149388.247500</td>\n",
       "      <td>0.000000</td>\n",
       "    </tr>\n",
       "    <tr>\n",
       "      <th>max</th>\n",
       "      <td>10000.00000</td>\n",
       "      <td>1.581569e+07</td>\n",
       "      <td>850.000000</td>\n",
       "      <td>92.000000</td>\n",
       "      <td>10.000000</td>\n",
       "      <td>250898.090000</td>\n",
       "      <td>4.000000</td>\n",
       "      <td>1.00000</td>\n",
       "      <td>1.000000</td>\n",
       "      <td>199992.480000</td>\n",
       "      <td>1.000000</td>\n",
       "    </tr>\n",
       "  </tbody>\n",
       "</table>\n",
       "</div>"
      ],
      "text/plain": [
       "         RowNumber    CustomerId   CreditScore           Age       Tenure  \\\n",
       "count  10000.00000  1.000000e+04  10000.000000  10000.000000  9091.000000   \n",
       "mean    5000.50000  1.569094e+07    650.528800     38.921800     4.997690   \n",
       "std     2886.89568  7.193619e+04     96.653299     10.487806     2.894723   \n",
       "min        1.00000  1.556570e+07    350.000000     18.000000     0.000000   \n",
       "25%     2500.75000  1.562853e+07    584.000000     32.000000     2.000000   \n",
       "50%     5000.50000  1.569074e+07    652.000000     37.000000     5.000000   \n",
       "75%     7500.25000  1.575323e+07    718.000000     44.000000     7.000000   \n",
       "max    10000.00000  1.581569e+07    850.000000     92.000000    10.000000   \n",
       "\n",
       "             Balance  NumOfProducts    HasCrCard  IsActiveMember  \\\n",
       "count   10000.000000   10000.000000  10000.00000    10000.000000   \n",
       "mean    76485.889288       1.530200      0.70550        0.515100   \n",
       "std     62397.405202       0.581654      0.45584        0.499797   \n",
       "min         0.000000       1.000000      0.00000        0.000000   \n",
       "25%         0.000000       1.000000      0.00000        0.000000   \n",
       "50%     97198.540000       1.000000      1.00000        1.000000   \n",
       "75%    127644.240000       2.000000      1.00000        1.000000   \n",
       "max    250898.090000       4.000000      1.00000        1.000000   \n",
       "\n",
       "       EstimatedSalary        Exited  \n",
       "count     10000.000000  10000.000000  \n",
       "mean     100090.239881      0.203700  \n",
       "std       57510.492818      0.402769  \n",
       "min          11.580000      0.000000  \n",
       "25%       51002.110000      0.000000  \n",
       "50%      100193.915000      0.000000  \n",
       "75%      149388.247500      0.000000  \n",
       "max      199992.480000      1.000000  "
      ]
     },
     "metadata": {},
     "output_type": "display_data"
    }
   ],
   "source": [
    "display(df.info())\n",
    "display(df.describe())"
   ]
  },
  {
   "cell_type": "code",
   "execution_count": null,
   "metadata": {},
   "outputs": [],
   "source": []
  },
  {
   "cell_type": "code",
   "execution_count": 5,
   "metadata": {},
   "outputs": [
    {
     "data": {
      "text/plain": [
       "RowNumber            0\n",
       "CustomerId           0\n",
       "Surname              0\n",
       "CreditScore          0\n",
       "Geography            0\n",
       "Gender               0\n",
       "Age                  0\n",
       "Tenure             909\n",
       "Balance              0\n",
       "NumOfProducts        0\n",
       "HasCrCard            0\n",
       "IsActiveMember       0\n",
       "EstimatedSalary      0\n",
       "Exited               0\n",
       "dtype: int64"
      ]
     },
     "execution_count": 5,
     "metadata": {},
     "output_type": "execute_result"
    }
   ],
   "source": [
    "df.isnull().sum()"
   ]
  },
  {
   "cell_type": "code",
   "execution_count": 6,
   "metadata": {},
   "outputs": [
    {
     "data": {
      "text/plain": [
       "RowNumber          0\n",
       "CustomerId         0\n",
       "Surname            0\n",
       "CreditScore        0\n",
       "Geography          0\n",
       "Gender             0\n",
       "Age                0\n",
       "Tenure             0\n",
       "Balance            0\n",
       "NumOfProducts      0\n",
       "HasCrCard          0\n",
       "IsActiveMember     0\n",
       "EstimatedSalary    0\n",
       "Exited             0\n",
       "dtype: int64"
      ]
     },
     "execution_count": 6,
     "metadata": {},
     "output_type": "execute_result"
    }
   ],
   "source": [
    "df.loc[df['Tenure'].isna(), 'Tenure'] = df['Tenure'].median()\n",
    "\n",
    "df.isnull().sum()"
   ]
  },
  {
   "cell_type": "markdown",
   "metadata": {},
   "source": [
    "Заменили отсутствуюшие значения на медианное"
   ]
  },
  {
   "cell_type": "code",
   "execution_count": 7,
   "metadata": {},
   "outputs": [
    {
     "data": {
      "text/plain": [
       "0"
      ]
     },
     "execution_count": 7,
     "metadata": {},
     "output_type": "execute_result"
    }
   ],
   "source": [
    "df.duplicated().sum()"
   ]
  },
  {
   "cell_type": "code",
   "execution_count": 8,
   "metadata": {},
   "outputs": [
    {
     "data": {
      "text/html": [
       "<div>\n",
       "<style scoped>\n",
       "    .dataframe tbody tr th:only-of-type {\n",
       "        vertical-align: middle;\n",
       "    }\n",
       "\n",
       "    .dataframe tbody tr th {\n",
       "        vertical-align: top;\n",
       "    }\n",
       "\n",
       "    .dataframe thead th {\n",
       "        text-align: right;\n",
       "    }\n",
       "</style>\n",
       "<table border=\"1\" class=\"dataframe\">\n",
       "  <thead>\n",
       "    <tr style=\"text-align: right;\">\n",
       "      <th></th>\n",
       "      <th>CreditScore</th>\n",
       "      <th>Geography</th>\n",
       "      <th>Gender</th>\n",
       "      <th>Age</th>\n",
       "      <th>Tenure</th>\n",
       "      <th>Balance</th>\n",
       "      <th>NumOfProducts</th>\n",
       "      <th>HasCrCard</th>\n",
       "      <th>IsActiveMember</th>\n",
       "      <th>EstimatedSalary</th>\n",
       "      <th>Exited</th>\n",
       "    </tr>\n",
       "  </thead>\n",
       "  <tbody>\n",
       "    <tr>\n",
       "      <th>0</th>\n",
       "      <td>619</td>\n",
       "      <td>France</td>\n",
       "      <td>Female</td>\n",
       "      <td>42</td>\n",
       "      <td>2.0</td>\n",
       "      <td>0.00</td>\n",
       "      <td>1</td>\n",
       "      <td>1</td>\n",
       "      <td>1</td>\n",
       "      <td>101348.88</td>\n",
       "      <td>1</td>\n",
       "    </tr>\n",
       "    <tr>\n",
       "      <th>1</th>\n",
       "      <td>608</td>\n",
       "      <td>Spain</td>\n",
       "      <td>Female</td>\n",
       "      <td>41</td>\n",
       "      <td>1.0</td>\n",
       "      <td>83807.86</td>\n",
       "      <td>1</td>\n",
       "      <td>0</td>\n",
       "      <td>1</td>\n",
       "      <td>112542.58</td>\n",
       "      <td>0</td>\n",
       "    </tr>\n",
       "    <tr>\n",
       "      <th>2</th>\n",
       "      <td>502</td>\n",
       "      <td>France</td>\n",
       "      <td>Female</td>\n",
       "      <td>42</td>\n",
       "      <td>8.0</td>\n",
       "      <td>159660.80</td>\n",
       "      <td>3</td>\n",
       "      <td>1</td>\n",
       "      <td>0</td>\n",
       "      <td>113931.57</td>\n",
       "      <td>1</td>\n",
       "    </tr>\n",
       "    <tr>\n",
       "      <th>3</th>\n",
       "      <td>699</td>\n",
       "      <td>France</td>\n",
       "      <td>Female</td>\n",
       "      <td>39</td>\n",
       "      <td>1.0</td>\n",
       "      <td>0.00</td>\n",
       "      <td>2</td>\n",
       "      <td>0</td>\n",
       "      <td>0</td>\n",
       "      <td>93826.63</td>\n",
       "      <td>0</td>\n",
       "    </tr>\n",
       "    <tr>\n",
       "      <th>4</th>\n",
       "      <td>850</td>\n",
       "      <td>Spain</td>\n",
       "      <td>Female</td>\n",
       "      <td>43</td>\n",
       "      <td>2.0</td>\n",
       "      <td>125510.82</td>\n",
       "      <td>1</td>\n",
       "      <td>1</td>\n",
       "      <td>1</td>\n",
       "      <td>79084.10</td>\n",
       "      <td>0</td>\n",
       "    </tr>\n",
       "    <tr>\n",
       "      <th>...</th>\n",
       "      <td>...</td>\n",
       "      <td>...</td>\n",
       "      <td>...</td>\n",
       "      <td>...</td>\n",
       "      <td>...</td>\n",
       "      <td>...</td>\n",
       "      <td>...</td>\n",
       "      <td>...</td>\n",
       "      <td>...</td>\n",
       "      <td>...</td>\n",
       "      <td>...</td>\n",
       "    </tr>\n",
       "    <tr>\n",
       "      <th>9995</th>\n",
       "      <td>771</td>\n",
       "      <td>France</td>\n",
       "      <td>Male</td>\n",
       "      <td>39</td>\n",
       "      <td>5.0</td>\n",
       "      <td>0.00</td>\n",
       "      <td>2</td>\n",
       "      <td>1</td>\n",
       "      <td>0</td>\n",
       "      <td>96270.64</td>\n",
       "      <td>0</td>\n",
       "    </tr>\n",
       "    <tr>\n",
       "      <th>9996</th>\n",
       "      <td>516</td>\n",
       "      <td>France</td>\n",
       "      <td>Male</td>\n",
       "      <td>35</td>\n",
       "      <td>10.0</td>\n",
       "      <td>57369.61</td>\n",
       "      <td>1</td>\n",
       "      <td>1</td>\n",
       "      <td>1</td>\n",
       "      <td>101699.77</td>\n",
       "      <td>0</td>\n",
       "    </tr>\n",
       "    <tr>\n",
       "      <th>9997</th>\n",
       "      <td>709</td>\n",
       "      <td>France</td>\n",
       "      <td>Female</td>\n",
       "      <td>36</td>\n",
       "      <td>7.0</td>\n",
       "      <td>0.00</td>\n",
       "      <td>1</td>\n",
       "      <td>0</td>\n",
       "      <td>1</td>\n",
       "      <td>42085.58</td>\n",
       "      <td>1</td>\n",
       "    </tr>\n",
       "    <tr>\n",
       "      <th>9998</th>\n",
       "      <td>772</td>\n",
       "      <td>Germany</td>\n",
       "      <td>Male</td>\n",
       "      <td>42</td>\n",
       "      <td>3.0</td>\n",
       "      <td>75075.31</td>\n",
       "      <td>2</td>\n",
       "      <td>1</td>\n",
       "      <td>0</td>\n",
       "      <td>92888.52</td>\n",
       "      <td>1</td>\n",
       "    </tr>\n",
       "    <tr>\n",
       "      <th>9999</th>\n",
       "      <td>792</td>\n",
       "      <td>France</td>\n",
       "      <td>Female</td>\n",
       "      <td>28</td>\n",
       "      <td>5.0</td>\n",
       "      <td>130142.79</td>\n",
       "      <td>1</td>\n",
       "      <td>1</td>\n",
       "      <td>0</td>\n",
       "      <td>38190.78</td>\n",
       "      <td>0</td>\n",
       "    </tr>\n",
       "  </tbody>\n",
       "</table>\n",
       "<p>10000 rows × 11 columns</p>\n",
       "</div>"
      ],
      "text/plain": [
       "      CreditScore Geography  Gender  Age  Tenure    Balance  NumOfProducts  \\\n",
       "0             619    France  Female   42     2.0       0.00              1   \n",
       "1             608     Spain  Female   41     1.0   83807.86              1   \n",
       "2             502    France  Female   42     8.0  159660.80              3   \n",
       "3             699    France  Female   39     1.0       0.00              2   \n",
       "4             850     Spain  Female   43     2.0  125510.82              1   \n",
       "...           ...       ...     ...  ...     ...        ...            ...   \n",
       "9995          771    France    Male   39     5.0       0.00              2   \n",
       "9996          516    France    Male   35    10.0   57369.61              1   \n",
       "9997          709    France  Female   36     7.0       0.00              1   \n",
       "9998          772   Germany    Male   42     3.0   75075.31              2   \n",
       "9999          792    France  Female   28     5.0  130142.79              1   \n",
       "\n",
       "      HasCrCard  IsActiveMember  EstimatedSalary  Exited  \n",
       "0             1               1        101348.88       1  \n",
       "1             0               1        112542.58       0  \n",
       "2             1               0        113931.57       1  \n",
       "3             0               0         93826.63       0  \n",
       "4             1               1         79084.10       0  \n",
       "...         ...             ...              ...     ...  \n",
       "9995          1               0         96270.64       0  \n",
       "9996          1               1        101699.77       0  \n",
       "9997          0               1         42085.58       1  \n",
       "9998          1               0         92888.52       1  \n",
       "9999          1               0         38190.78       0  \n",
       "\n",
       "[10000 rows x 11 columns]"
      ]
     },
     "execution_count": 8,
     "metadata": {},
     "output_type": "execute_result"
    }
   ],
   "source": [
    "df = df.drop(['RowNumber','CustomerId','Surname'], axis=1)\n",
    "df"
   ]
  },
  {
   "cell_type": "markdown",
   "metadata": {},
   "source": [
    "Удалим столбцы, которые не нужны будут для модели"
   ]
  },
  {
   "cell_type": "code",
   "execution_count": 9,
   "metadata": {},
   "outputs": [
    {
     "name": "stdout",
     "output_type": "stream",
     "text": [
      "<class 'pandas.core.frame.DataFrame'>\n",
      "RangeIndex: 10000 entries, 0 to 9999\n",
      "Data columns (total 11 columns):\n",
      " #   Column           Non-Null Count  Dtype  \n",
      "---  ------           --------------  -----  \n",
      " 0   CreditScore      10000 non-null  int64  \n",
      " 1   Geography        10000 non-null  object \n",
      " 2   Gender           10000 non-null  object \n",
      " 3   Age              10000 non-null  int64  \n",
      " 4   Tenure           10000 non-null  float64\n",
      " 5   Balance          10000 non-null  float64\n",
      " 6   NumOfProducts    10000 non-null  int64  \n",
      " 7   HasCrCard        10000 non-null  int64  \n",
      " 8   IsActiveMember   10000 non-null  int64  \n",
      " 9   EstimatedSalary  10000 non-null  float64\n",
      " 10  Exited           10000 non-null  int64  \n",
      "dtypes: float64(3), int64(6), object(2)\n",
      "memory usage: 859.5+ KB\n"
     ]
    }
   ],
   "source": [
    "df.info()"
   ]
  },
  {
   "cell_type": "code",
   "execution_count": 10,
   "metadata": {},
   "outputs": [
    {
     "data": {
      "text/html": [
       "<div>\n",
       "<style scoped>\n",
       "    .dataframe tbody tr th:only-of-type {\n",
       "        vertical-align: middle;\n",
       "    }\n",
       "\n",
       "    .dataframe tbody tr th {\n",
       "        vertical-align: top;\n",
       "    }\n",
       "\n",
       "    .dataframe thead th {\n",
       "        text-align: right;\n",
       "    }\n",
       "</style>\n",
       "<table border=\"1\" class=\"dataframe\">\n",
       "  <thead>\n",
       "    <tr style=\"text-align: right;\">\n",
       "      <th></th>\n",
       "      <th>CreditScore</th>\n",
       "      <th>Age</th>\n",
       "      <th>Tenure</th>\n",
       "      <th>Balance</th>\n",
       "      <th>NumOfProducts</th>\n",
       "      <th>HasCrCard</th>\n",
       "      <th>IsActiveMember</th>\n",
       "      <th>EstimatedSalary</th>\n",
       "      <th>Exited</th>\n",
       "      <th>Geography_Germany</th>\n",
       "      <th>Geography_Spain</th>\n",
       "      <th>Gender_Male</th>\n",
       "    </tr>\n",
       "  </thead>\n",
       "  <tbody>\n",
       "    <tr>\n",
       "      <th>0</th>\n",
       "      <td>619</td>\n",
       "      <td>42</td>\n",
       "      <td>2.0</td>\n",
       "      <td>0.00</td>\n",
       "      <td>1</td>\n",
       "      <td>1</td>\n",
       "      <td>1</td>\n",
       "      <td>101348.88</td>\n",
       "      <td>1</td>\n",
       "      <td>0</td>\n",
       "      <td>0</td>\n",
       "      <td>0</td>\n",
       "    </tr>\n",
       "    <tr>\n",
       "      <th>1</th>\n",
       "      <td>608</td>\n",
       "      <td>41</td>\n",
       "      <td>1.0</td>\n",
       "      <td>83807.86</td>\n",
       "      <td>1</td>\n",
       "      <td>0</td>\n",
       "      <td>1</td>\n",
       "      <td>112542.58</td>\n",
       "      <td>0</td>\n",
       "      <td>0</td>\n",
       "      <td>1</td>\n",
       "      <td>0</td>\n",
       "    </tr>\n",
       "    <tr>\n",
       "      <th>2</th>\n",
       "      <td>502</td>\n",
       "      <td>42</td>\n",
       "      <td>8.0</td>\n",
       "      <td>159660.80</td>\n",
       "      <td>3</td>\n",
       "      <td>1</td>\n",
       "      <td>0</td>\n",
       "      <td>113931.57</td>\n",
       "      <td>1</td>\n",
       "      <td>0</td>\n",
       "      <td>0</td>\n",
       "      <td>0</td>\n",
       "    </tr>\n",
       "    <tr>\n",
       "      <th>3</th>\n",
       "      <td>699</td>\n",
       "      <td>39</td>\n",
       "      <td>1.0</td>\n",
       "      <td>0.00</td>\n",
       "      <td>2</td>\n",
       "      <td>0</td>\n",
       "      <td>0</td>\n",
       "      <td>93826.63</td>\n",
       "      <td>0</td>\n",
       "      <td>0</td>\n",
       "      <td>0</td>\n",
       "      <td>0</td>\n",
       "    </tr>\n",
       "    <tr>\n",
       "      <th>4</th>\n",
       "      <td>850</td>\n",
       "      <td>43</td>\n",
       "      <td>2.0</td>\n",
       "      <td>125510.82</td>\n",
       "      <td>1</td>\n",
       "      <td>1</td>\n",
       "      <td>1</td>\n",
       "      <td>79084.10</td>\n",
       "      <td>0</td>\n",
       "      <td>0</td>\n",
       "      <td>1</td>\n",
       "      <td>0</td>\n",
       "    </tr>\n",
       "  </tbody>\n",
       "</table>\n",
       "</div>"
      ],
      "text/plain": [
       "   CreditScore  Age  Tenure    Balance  NumOfProducts  HasCrCard  \\\n",
       "0          619   42     2.0       0.00              1          1   \n",
       "1          608   41     1.0   83807.86              1          0   \n",
       "2          502   42     8.0  159660.80              3          1   \n",
       "3          699   39     1.0       0.00              2          0   \n",
       "4          850   43     2.0  125510.82              1          1   \n",
       "\n",
       "   IsActiveMember  EstimatedSalary  Exited  Geography_Germany  \\\n",
       "0               1        101348.88       1                  0   \n",
       "1               1        112542.58       0                  0   \n",
       "2               0        113931.57       1                  0   \n",
       "3               0         93826.63       0                  0   \n",
       "4               1         79084.10       0                  0   \n",
       "\n",
       "   Geography_Spain  Gender_Male  \n",
       "0                0            0  \n",
       "1                1            0  \n",
       "2                0            0  \n",
       "3                0            0  \n",
       "4                1            0  "
      ]
     },
     "execution_count": 10,
     "metadata": {},
     "output_type": "execute_result"
    }
   ],
   "source": [
    "df = pd.get_dummies(df, drop_first=True)\n",
    "df.head()"
   ]
  },
  {
   "cell_type": "code",
   "execution_count": 11,
   "metadata": {},
   "outputs": [
    {
     "name": "stdout",
     "output_type": "stream",
     "text": [
      "(6000, 11)\n",
      "(2000, 11)\n",
      "(2000, 11)\n"
     ]
    }
   ],
   "source": [
    "# Разбиваем Датасет\n",
    "target = df['Exited']\n",
    "features = df.drop('Exited', axis=1)\n",
    "\n",
    "features_train, features_rest, target_train, target_rest = train_test_split(features, target, test_size=.4, random_state=12345)\n",
    "features_valid, features_test, target_valid, target_test = train_test_split(features_rest, target_rest, test_size=.5, random_state=12345)\n",
    "print(features_train.shape)\n",
    "print(features_valid.shape)\n",
    "print(features_test.shape)"
   ]
  },
  {
   "cell_type": "code",
   "execution_count": 12,
   "metadata": {},
   "outputs": [],
   "source": [
    "numeric = ['CreditScore', 'Age', 'Balance', 'EstimatedSalary', 'Tenure', 'NumOfProducts']\n",
    "\n",
    "scaler = StandardScaler()\n",
    "scaler.fit(features_train[numeric])\n",
    "features_train[numeric] = scaler.transform(features_train[numeric])\n",
    "features_valid[numeric] = scaler.transform(features_valid[numeric])\n",
    "features_test[numeric] = scaler.transform(features_test[numeric])"
   ]
  },
  {
   "cell_type": "markdown",
   "metadata": {},
   "source": [
    "Стандаритизируем признаки"
   ]
  },
  {
   "cell_type": "markdown",
   "metadata": {},
   "source": [
    "В этом разделе мы изучили Датасет, заполнили отстутствующие значения,избавились от лишних столбцов и разделили выборку на обучающую, тестовую и валидационную"
   ]
  },
  {
   "cell_type": "markdown",
   "metadata": {},
   "source": [
    "## Исследование задачи"
   ]
  },
  {
   "cell_type": "markdown",
   "metadata": {},
   "source": [
    "Исследуем целевой признак. Чтобы оценить адекватность модели, проверим, как часто в целевом признаке Exited встречается класс «1» или «0»."
   ]
  },
  {
   "cell_type": "code",
   "execution_count": 47,
   "metadata": {},
   "outputs": [
    {
     "name": "stdout",
     "output_type": "stream",
     "text": [
      "0    0.7963\n",
      "1    0.2037\n",
      "Name: Exited, dtype: float64\n"
     ]
    },
    {
     "data": {
      "text/plain": [
       "<AxesSubplot:xlabel='asasf', ylabel='asfasmf'>"
      ]
     },
     "execution_count": 47,
     "metadata": {},
     "output_type": "execute_result"
    },
    {
     "data": {
      "image/png": "[encoded data removed]",
      "text/plain": [
       "<Figure size 432x288 with 1 Axes>"
      ]
     },
     "metadata": {
      "needs_background": "light"
     },
     "output_type": "display_data"
    }
   ],
   "source": [
    "class_frequency = df['Exited'].value_counts(normalize=True)\n",
    "print(class_frequency)\n",
    "\n",
    "class_frequency.plot(kind='bar', xlabel = 'asasf', ylabel = 'asfasmf')\n"
   ]
  },
  {
   "cell_type": "code",
   "execution_count": 19,
   "metadata": {},
   "outputs": [
    {
     "name": "stdout",
     "output_type": "stream",
     "text": [
      "f1 score: 0.33108108108108103\n",
      "auc_roc: 0.7587512627102753\n"
     ]
    }
   ],
   "source": [
    "\n",
    "\n",
    "\n",
    "model = LogisticRegression(random_state=1234, solver='liblinear')\n",
    "model.fit(features_train, target_train)\n",
    "predicted = model.predict(features_valid)\n",
    "f1 = f1_score(target_valid, predicted)\n",
    "\n",
    "probabilities = model.predict_proba(features_valid)\n",
    "probabilities_one = probabilities[:,1]\n",
    "auc_roc = roc_auc_score(target_valid, probabilities_one)\n",
    "        \n",
    "print('f1 score:', f1)\n",
    "print('auc_roc:', auc_roc)"
   ]
  },
  {
   "cell_type": "code",
   "execution_count": null,
   "metadata": {},
   "outputs": [],
   "source": []
  },
  {
   "cell_type": "markdown",
   "metadata": {},
   "source": [
    "модель Random Forest"
   ]
  },
  {
   "cell_type": "code",
   "execution_count": 15,
   "metadata": {},
   "outputs": [
    {
     "name": "stdout",
     "output_type": "stream",
     "text": [
      "best depth: 11\n",
      "best n_estimators: 91\n",
      "best_auc_roc: 0.8411276078369698\n",
      "best_f1: 0.5852187028657616\n"
     ]
    }
   ],
   "source": [
    "best_f1 = 0\n",
    "best_depth = 0\n",
    "best_auc_roc = 0\n",
    "best_est = 0\n",
    "for est in range(1, 101, 10):    \n",
    "    for depth in range(1,14, 2):    \n",
    "        model = RandomForestClassifier(random_state=12345, max_depth=depth, n_estimators=est)\n",
    "        model.fit(features_train, target_train)\n",
    "        predicted = model.predict(features_valid)\n",
    "        f1 = f1_score(target_valid, predicted) \n",
    "        if f1 > best_f1:\n",
    "            best_f1 = f1\n",
    "            best_depth = depth\n",
    "            best_est = est\n",
    "            probabilities = model.predict_proba(features_valid)\n",
    "            probabilities_one = probabilities[:,1]\n",
    "            best_auc_roc = roc_auc_score(target_valid, probabilities_one) \n",
    "print('best depth:', best_depth)\n",
    "print('best n_estimators:', est)\n",
    "print('best_auc_roc:', best_auc_roc)\n",
    "print('best_f1:', best_f1 )"
   ]
  },
  {
   "cell_type": "markdown",
   "metadata": {},
   "source": [
    "Random Forest показывает результаты лучше, попробуем улучшить модель"
   ]
  },
  {
   "cell_type": "markdown",
   "metadata": {},
   "source": [
    "## Борьба с дисбалансом"
   ]
  },
  {
   "cell_type": "code",
   "execution_count": 20,
   "metadata": {},
   "outputs": [
    {
     "name": "stdout",
     "output_type": "stream",
     "text": [
      "f1 score: 0.4888507718696398\n",
      "auc_roc: 0.7637310291013133\n"
     ]
    }
   ],
   "source": [
    "\n",
    "model = LogisticRegression(random_state=1234, solver='liblinear', class_weight='balanced')\n",
    "model.fit(features_train, target_train)\n",
    "predicted = model.predict(features_valid)\n",
    "f1 = f1_score(target_valid, predicted)\n",
    "\n",
    "probabilities = model.predict_proba(features_valid)\n",
    "probabilities_one = probabilities[:,1]\n",
    "auc_roc = roc_auc_score(target_valid, probabilities_one)\n",
    "        \n",
    "print('f1 score:', f1)\n",
    "print('auc_roc:', auc_roc)"
   ]
  },
  {
   "cell_type": "code",
   "execution_count": 21,
   "metadata": {},
   "outputs": [
    {
     "name": "stdout",
     "output_type": "stream",
     "text": [
      "best depth: 9\n",
      "best n_estimators: 91\n",
      "best_auc_roc: 0.8530432073748329\n",
      "best_f1: 0.6285714285714286\n"
     ]
    }
   ],
   "source": [
    "best_f1 = 0\n",
    "best_depth = 0\n",
    "best_auc_roc = 0\n",
    "best_est = 0\n",
    "for est in range(1, 101, 10):    \n",
    "    for depth in range(1,14, 2):    \n",
    "        model = RandomForestClassifier(random_state=12345, max_depth=depth, n_estimators=est, class_weight='balanced')\n",
    "        model.fit(features_train, target_train)\n",
    "        predicted = model.predict(features_valid)\n",
    "        f1 = f1_score(target_valid, predicted) \n",
    "        if f1 > best_f1:\n",
    "            best_f1 = f1\n",
    "            best_depth = depth\n",
    "            best_est = est\n",
    "            probabilities = model.predict_proba(features_valid)\n",
    "            probabilities_one = probabilities[:,1]\n",
    "            best_auc_roc = roc_auc_score(target_valid, probabilities_one) \n",
    "print('best depth:', best_depth)\n",
    "print('best n_estimators:', est)\n",
    "print('best_auc_roc:', best_auc_roc)\n",
    "print('best_f1:', best_f1 )"
   ]
  },
  {
   "cell_type": "markdown",
   "metadata": {},
   "source": [
    "Сбалансируем классы с помощью аргумента class_weight. Мера F1 улучшилась "
   ]
  },
  {
   "cell_type": "code",
   "execution_count": 23,
   "metadata": {},
   "outputs": [],
   "source": [
    "def downsample(features, target, fraction):\n",
    "    features_zeros = features[target == 0]\n",
    "    features_ones = features[target == 1]\n",
    "    target_zeros = target[target == 0]\n",
    "    target_ones = target[target == 1]\n",
    "\n",
    "    features_downsampled = pd.concat(\n",
    "        [features_zeros.sample(frac=fraction, random_state=12345)] + [features_ones])\n",
    "    target_downsampled = pd.concat(\n",
    "        [target_zeros.sample(frac=fraction, random_state=12345)] + [target_ones])\n",
    "    \n",
    "    features_downsampled, target_downsampled = shuffle(\n",
    "        features_downsampled, target_downsampled, random_state=12345)\n",
    "    \n",
    "    return features_downsampled, target_downsampled"
   ]
  },
  {
   "cell_type": "code",
   "execution_count": 24,
   "metadata": {},
   "outputs": [],
   "source": [
    "features_downsampled, target_downsampled = downsample(features_train, target_train, 0.25)"
   ]
  },
  {
   "cell_type": "code",
   "execution_count": 25,
   "metadata": {},
   "outputs": [
    {
     "data": {
      "text/plain": [
       "0.5902255639097744"
      ]
     },
     "execution_count": 25,
     "metadata": {},
     "output_type": "execute_result"
    }
   ],
   "source": [
    "model = RandomForestClassifier(n_estimators=91, max_depth=9, random_state=12345)\n",
    "model.fit(features_downsampled, target_downsampled)\n",
    "predicted_valid_downsampled = model.predict(features_valid)\n",
    "f1_score(target_valid, predicted_valid_downsampled)"
   ]
  },
  {
   "cell_type": "code",
   "execution_count": 27,
   "metadata": {},
   "outputs": [
    {
     "data": {
      "text/plain": [
       "0.48406546080964685"
      ]
     },
     "execution_count": 27,
     "metadata": {},
     "output_type": "execute_result"
    }
   ],
   "source": [
    "model = LogisticRegression(random_state=12345, solver='liblinear')\n",
    "model.fit(features_downsampled, target_downsampled)\n",
    "predicted_valid_downsampled = model.predict(features_valid)\n",
    "f1_score(target_valid, predicted_valid_downsampled)"
   ]
  },
  {
   "cell_type": "markdown",
   "metadata": {},
   "source": [
    "Уменьшение выборки дает результаты хуже. \n",
    "Для модели RandomForestClassifier нашли значения n_estimators и max_depth, при которых она будет показывать лучшие результаты."
   ]
  },
  {
   "cell_type": "code",
   "execution_count": 28,
   "metadata": {},
   "outputs": [],
   "source": [
    "def upsample(features, target, repeat):\n",
    "    features_zeros = features[target == 0]\n",
    "    features_ones = features[target == 1]\n",
    "    target_zeros = target[target == 0]\n",
    "    target_ones = target[target == 1]\n",
    "    features_upsampled = pd.concat([features_zeros] + [features_ones] * repeat)\n",
    "    target_upsampled = pd.concat([target_zeros] + [target_ones] * repeat)\n",
    "    features_upsampled, target_upsampled = shuffle( features_upsampled, target_upsampled,\n",
    "                                                   random_state=12345)\n",
    "    return features_upsampled, target_upsampled"
   ]
  },
  {
   "cell_type": "code",
   "execution_count": 31,
   "metadata": {},
   "outputs": [],
   "source": [
    "features_upsampled, target_upsampled = upsample(features_train, target_train, 4)"
   ]
  },
  {
   "cell_type": "code",
   "execution_count": 32,
   "metadata": {},
   "outputs": [
    {
     "data": {
      "text/plain": [
       "0.48941798941798936"
      ]
     },
     "execution_count": 32,
     "metadata": {},
     "output_type": "execute_result"
    }
   ],
   "source": [
    "model = RandomForestClassifier(n_estimators=91, max_depth=9, random_state=12345)\n",
    "model.fit(features_upsampled, target_upsampled)\n",
    "predicted_valid_upsampled = model.predict(features_valid)\n",
    "f1_score(target_valid, predicted_valid_upsampled)"
   ]
  },
  {
   "cell_type": "code",
   "execution_count": 33,
   "metadata": {},
   "outputs": [
    {
     "data": {
      "text/plain": [
       "0.48406546080964685"
      ]
     },
     "execution_count": 33,
     "metadata": {},
     "output_type": "execute_result"
    }
   ],
   "source": [
    "model = LogisticRegression(random_state=12345, solver='liblinear')\n",
    "model.fit(features_upsampled, target_upsampled)\n",
    "predicted_valid_upsampled = model.predict(features_valid)\n",
    "f1_score(target_valid, predicted_valid_downsampled)"
   ]
  },
  {
   "cell_type": "code",
   "execution_count": null,
   "metadata": {},
   "outputs": [],
   "source": [
    "Уменьшение и увеличение выборки дает результаты хуже,чем сбалансирование классов \n",
    "Для модели RandomForestClassifier нашли значения n_estimators и max_depth, при которых она будет показывать лучшие результаты."
   ]
  },
  {
   "cell_type": "markdown",
   "metadata": {},
   "source": [
    "Лучшие результаты показал способы борьбы с дисбалансом class_weight, применим его.\n",
    "\n",
    "Работать дальше будем с моделью RandomForestClassifier со значением n_estimators = 91 и max_depth = 9"
   ]
  },
  {
   "cell_type": "markdown",
   "metadata": {},
   "source": [
    "## Тестирование модели"
   ]
  },
  {
   "cell_type": "code",
   "execution_count": 36,
   "metadata": {},
   "outputs": [
    {
     "data": {
      "text/plain": [
       "0.6084275436793423"
      ]
     },
     "execution_count": 36,
     "metadata": {},
     "output_type": "execute_result"
    }
   ],
   "source": [
    "model_final = RandomForestClassifier(random_state=12345, n_estimators=91, max_depth = 9, class_weight='balanced')\n",
    "model_final.fit(features_train, target_train)\n",
    "predicted_test = model_final.predict(features_test)\n",
    "f1_score(target_test, predicted_test)"
   ]
  },
  {
   "cell_type": "markdown",
   "metadata": {},
   "source": [
    "Нужное значение F1 получено"
   ]
  },
  {
   "cell_type": "code",
   "execution_count": 35,
   "metadata": {},
   "outputs": [
    {
     "data": {
      "text/plain": [
       "0.8551713385831493"
      ]
     },
     "execution_count": 35,
     "metadata": {},
     "output_type": "execute_result"
    }
   ],
   "source": [
    "#Посчитаем площадь под ROC-кривой для модели (AUC-ROC), чтобы узнать, насколько сильно ее точность отличается от случайной \n",
    "probabilities_valid_final = model_final.predict_proba(features_test)\n",
    "probabilities_one_valid_final = probabilities_valid_final[:, 1]\n",
    "roc_auc_score(target_test, probabilities_one_valid_final)"
   ]
  },
  {
   "cell_type": "markdown",
   "metadata": {},
   "source": [
    "Как видно, данный параметр вышел вполне добротным - получившаяся модель конечно не идеальна, и несколько далека от значения AUC-ROC = 1 , но заметно лучше, чем просто случайная модель со своими 0.5 , так что можно считать итоговую обученную модель вполне годной."
   ]
  },
  {
   "cell_type": "markdown",
   "metadata": {},
   "source": [
    "## Вывод ##"
   ]
  },
  {
   "cell_type": "markdown",
   "metadata": {},
   "source": [
    "1) Ознакомились с данными и подготовили их к исследованию\n",
    "2) Hазбили получившийся датасет на 3 выборки - обучающую, валидационную и тестовую, масштабировали признаки методом стандартизации\n",
    "3) Применили различные способы борбы с дисбалансом - аргумент class_weight, уменьшение выборки. Лучшие результаты показал способы борьбы с дисбалансом class_weight. Выявили лучшие значения n_estimators и max_depth для модели случайного леса.\n",
    "4) Обучили финальную модель и проверили ее на тестовой выборке. Достигли значения F1 = 0.608. Исследовали метрику AUC-ROC - ее значение в данном случае равно 0.85, что не так далеко от 1."
   ]
  },
  {
   "cell_type": "markdown",
   "metadata": {},
   "source": [
    "## Чек-лист готовности проекта"
   ]
  },
  {
   "cell_type": "markdown",
   "metadata": {},
   "source": [
    "Поставьте 'x' в выполненных пунктах. Далее нажмите Shift+Enter."
   ]
  },
  {
   "cell_type": "markdown",
   "metadata": {},
   "source": [
    "- [x]  Jupyter Notebook открыт\n",
    "- [x]  Весь код выполняется без ошибок\n",
    "- [x]  Ячейки с кодом расположены в порядке исполнения\n",
    "- [x]  Выполнен шаг 1: данные подготовлены\n",
    "- [x]  Выполнен шаг 2: задача исследована\n",
    "    - [ ]  Исследован баланс классов\n",
    "    - [ ]  Изучены модели без учёта дисбаланса\n",
    "    - [ ]  Написаны выводы по результатам исследования\n",
    "- [ ]  Выполнен шаг 3: учтён дисбаланс\n",
    "    - [ ]  Применено несколько способов борьбы с дисбалансом\n",
    "    - [ ]  Написаны выводы по результатам исследования\n",
    "- [ ]  Выполнен шаг 4: проведено тестирование\n",
    "- [ ]  Удалось достичь *F1*-меры не менее 0.59\n",
    "- [ ]  Исследована метрика *AUC-ROC*"
   ]
  },
  {
   "cell_type": "code",
   "execution_count": null,
   "metadata": {},
   "outputs": [],
   "source": []
  }
 ],
 "metadata": {
  "ExecuteTimeLog": [
   {
    "duration": 1152,
    "start_time": "2023-03-20T17:55:37.609Z"
   },
   {
    "duration": 189,
    "start_time": "2023-03-20T17:56:04.762Z"
   },
   {
    "duration": 62,
    "start_time": "2023-03-20T17:56:23.226Z"
   },
   {
    "duration": 7,
    "start_time": "2023-03-20T17:57:08.361Z"
   },
   {
    "duration": 14,
    "start_time": "2023-03-20T17:57:23.364Z"
   },
   {
    "duration": 107,
    "start_time": "2023-03-20T17:59:12.285Z"
   },
   {
    "duration": 10,
    "start_time": "2023-03-20T17:59:29.707Z"
   },
   {
    "duration": 226,
    "start_time": "2023-03-20T18:00:37.805Z"
   },
   {
    "duration": 17,
    "start_time": "2023-03-20T18:01:33.337Z"
   },
   {
    "duration": 13,
    "start_time": "2023-03-20T18:01:59.444Z"
   },
   {
    "duration": 12,
    "start_time": "2023-03-20T18:02:08.543Z"
   },
   {
    "duration": 3,
    "start_time": "2023-03-20T18:02:26.084Z"
   },
   {
    "duration": 56,
    "start_time": "2023-03-20T18:02:26.089Z"
   },
   {
    "duration": 48,
    "start_time": "2023-03-20T18:02:26.146Z"
   },
   {
    "duration": 7,
    "start_time": "2023-03-20T18:02:26.195Z"
   },
   {
    "duration": 8,
    "start_time": "2023-03-20T18:02:26.205Z"
   },
   {
    "duration": 16,
    "start_time": "2023-03-20T18:02:26.215Z"
   },
   {
    "duration": 3,
    "start_time": "2023-03-20T18:02:26.233Z"
   },
   {
    "duration": 13,
    "start_time": "2023-03-20T18:02:37.368Z"
   },
   {
    "duration": 12,
    "start_time": "2023-03-20T18:03:15.503Z"
   },
   {
    "duration": 12,
    "start_time": "2023-03-20T18:03:59.548Z"
   },
   {
    "duration": 14,
    "start_time": "2023-03-20T18:04:11.897Z"
   },
   {
    "duration": 14,
    "start_time": "2023-03-20T18:07:06.323Z"
   },
   {
    "duration": 12,
    "start_time": "2023-03-20T18:07:41.981Z"
   },
   {
    "duration": 11,
    "start_time": "2023-03-20T18:07:53.518Z"
   },
   {
    "duration": 18,
    "start_time": "2023-03-20T18:08:37.259Z"
   },
   {
    "duration": 15,
    "start_time": "2023-03-20T18:09:28.020Z"
   },
   {
    "duration": 11,
    "start_time": "2023-03-20T18:09:56.270Z"
   },
   {
    "duration": 90,
    "start_time": "2023-03-20T18:10:21.714Z"
   },
   {
    "duration": 7,
    "start_time": "2023-03-20T18:11:36.137Z"
   },
   {
    "duration": 1393,
    "start_time": "2023-03-20T18:11:39.245Z"
   },
   {
    "duration": 1146,
    "start_time": "2023-03-20T18:12:02.435Z"
   },
   {
    "duration": 11,
    "start_time": "2023-03-20T18:12:13.605Z"
   },
   {
    "duration": 1149,
    "start_time": "2023-03-20T18:12:25.396Z"
   },
   {
    "duration": 11,
    "start_time": "2023-03-20T18:12:29.135Z"
   },
   {
    "duration": 9,
    "start_time": "2023-03-20T18:14:51.870Z"
   },
   {
    "duration": 11,
    "start_time": "2023-03-20T18:15:09.124Z"
   },
   {
    "duration": 13,
    "start_time": "2023-03-20T18:15:13.246Z"
   },
   {
    "duration": 18,
    "start_time": "2023-03-20T18:20:29.436Z"
   },
   {
    "duration": 23,
    "start_time": "2023-03-20T18:20:40.440Z"
   },
   {
    "duration": 10,
    "start_time": "2023-03-20T18:30:56.735Z"
   },
   {
    "duration": 773,
    "start_time": "2023-03-20T18:55:08.423Z"
   },
   {
    "duration": 122,
    "start_time": "2023-03-20T18:56:17.271Z"
   },
   {
    "duration": 11,
    "start_time": "2023-03-20T19:48:19.881Z"
   },
   {
    "duration": 0,
    "start_time": "2023-03-20T20:01:44.689Z"
   },
   {
    "duration": 83,
    "start_time": "2023-03-20T20:02:57.797Z"
   },
   {
    "duration": 38,
    "start_time": "2023-03-20T20:03:02.426Z"
   },
   {
    "duration": 48,
    "start_time": "2023-03-22T07:20:53.845Z"
   },
   {
    "duration": 1062,
    "start_time": "2023-03-22T07:21:07.115Z"
   },
   {
    "duration": 118,
    "start_time": "2023-03-22T07:21:08.179Z"
   },
   {
    "duration": 52,
    "start_time": "2023-03-22T07:21:08.298Z"
   },
   {
    "duration": 7,
    "start_time": "2023-03-22T07:21:08.352Z"
   },
   {
    "duration": 10,
    "start_time": "2023-03-22T07:21:08.375Z"
   },
   {
    "duration": 13,
    "start_time": "2023-03-22T07:21:08.387Z"
   },
   {
    "duration": 101,
    "start_time": "2023-03-22T07:21:08.402Z"
   },
   {
    "duration": 0,
    "start_time": "2023-03-22T07:21:08.505Z"
   },
   {
    "duration": 0,
    "start_time": "2023-03-22T07:21:08.506Z"
   },
   {
    "duration": 0,
    "start_time": "2023-03-22T07:21:08.507Z"
   },
   {
    "duration": 0,
    "start_time": "2023-03-22T07:21:08.509Z"
   },
   {
    "duration": 0,
    "start_time": "2023-03-22T07:21:08.510Z"
   },
   {
    "duration": 0,
    "start_time": "2023-03-22T07:21:08.511Z"
   },
   {
    "duration": 0,
    "start_time": "2023-03-22T07:21:08.512Z"
   },
   {
    "duration": 0,
    "start_time": "2023-03-22T07:21:08.513Z"
   },
   {
    "duration": 0,
    "start_time": "2023-03-22T07:21:08.514Z"
   },
   {
    "duration": 12,
    "start_time": "2023-03-22T07:22:00.998Z"
   },
   {
    "duration": 852,
    "start_time": "2023-03-22T07:22:02.243Z"
   },
   {
    "duration": 10,
    "start_time": "2023-03-22T07:22:08.062Z"
   },
   {
    "duration": 12,
    "start_time": "2023-03-22T07:22:09.320Z"
   },
   {
    "duration": 9,
    "start_time": "2023-03-22T07:22:18.695Z"
   },
   {
    "duration": 14,
    "start_time": "2023-03-22T07:31:40.209Z"
   },
   {
    "duration": 12,
    "start_time": "2023-03-22T07:31:55.002Z"
   },
   {
    "duration": 4,
    "start_time": "2023-03-22T07:32:23.205Z"
   },
   {
    "duration": 13,
    "start_time": "2023-03-22T07:32:27.114Z"
   },
   {
    "duration": 13,
    "start_time": "2023-03-22T07:34:46.888Z"
   },
   {
    "duration": 11,
    "start_time": "2023-03-22T08:37:09.027Z"
   },
   {
    "duration": 11,
    "start_time": "2023-03-22T08:37:18.600Z"
   },
   {
    "duration": 8,
    "start_time": "2023-03-22T08:37:46.155Z"
   },
   {
    "duration": 12,
    "start_time": "2023-03-22T08:38:10.258Z"
   },
   {
    "duration": 12,
    "start_time": "2023-03-22T08:38:21.984Z"
   },
   {
    "duration": 16,
    "start_time": "2023-03-22T08:38:43.045Z"
   },
   {
    "duration": 15,
    "start_time": "2023-03-22T08:38:49.005Z"
   },
   {
    "duration": 18,
    "start_time": "2023-03-22T08:39:47.910Z"
   },
   {
    "duration": 15,
    "start_time": "2023-03-22T08:40:01.242Z"
   },
   {
    "duration": 14,
    "start_time": "2023-03-22T08:40:10.929Z"
   },
   {
    "duration": 4,
    "start_time": "2023-03-22T08:42:02.875Z"
   },
   {
    "duration": 90,
    "start_time": "2023-03-22T08:42:02.881Z"
   },
   {
    "duration": 52,
    "start_time": "2023-03-22T08:42:02.973Z"
   },
   {
    "duration": 7,
    "start_time": "2023-03-22T08:42:03.026Z"
   },
   {
    "duration": 30,
    "start_time": "2023-03-22T08:42:03.035Z"
   },
   {
    "duration": 34,
    "start_time": "2023-03-22T08:42:03.067Z"
   },
   {
    "duration": 46,
    "start_time": "2023-03-22T08:42:03.103Z"
   },
   {
    "duration": 34,
    "start_time": "2023-03-22T08:42:03.150Z"
   },
   {
    "duration": 18,
    "start_time": "2023-03-22T08:42:03.185Z"
   },
   {
    "duration": 11,
    "start_time": "2023-03-22T08:43:38.292Z"
   },
   {
    "duration": 12,
    "start_time": "2023-03-22T08:43:43.169Z"
   },
   {
    "duration": 21,
    "start_time": "2023-03-22T08:44:29.606Z"
   },
   {
    "duration": 14,
    "start_time": "2023-03-22T08:44:32.833Z"
   },
   {
    "duration": 15,
    "start_time": "2023-03-22T08:44:35.745Z"
   },
   {
    "duration": 19,
    "start_time": "2023-03-22T08:45:05.043Z"
   },
   {
    "duration": 19,
    "start_time": "2023-03-22T08:46:02.610Z"
   },
   {
    "duration": 887,
    "start_time": "2023-03-22T08:46:29.435Z"
   },
   {
    "duration": 28,
    "start_time": "2023-03-22T08:47:03.373Z"
   },
   {
    "duration": 4,
    "start_time": "2023-03-22T08:47:07.802Z"
   },
   {
    "duration": 89,
    "start_time": "2023-03-22T08:47:07.809Z"
   },
   {
    "duration": 51,
    "start_time": "2023-03-22T08:47:07.900Z"
   },
   {
    "duration": 25,
    "start_time": "2023-03-22T08:47:07.953Z"
   },
   {
    "duration": 16,
    "start_time": "2023-03-22T08:47:07.980Z"
   },
   {
    "duration": 39,
    "start_time": "2023-03-22T08:47:07.997Z"
   },
   {
    "duration": 27,
    "start_time": "2023-03-22T08:47:08.037Z"
   },
   {
    "duration": 32,
    "start_time": "2023-03-22T08:47:08.065Z"
   },
   {
    "duration": 28,
    "start_time": "2023-03-22T08:47:08.099Z"
   },
   {
    "duration": 16,
    "start_time": "2023-03-22T08:47:08.129Z"
   },
   {
    "duration": 25,
    "start_time": "2023-03-22T08:48:07.954Z"
   },
   {
    "duration": 10,
    "start_time": "2023-03-22T08:48:27.562Z"
   },
   {
    "duration": 18,
    "start_time": "2023-03-22T08:48:32.423Z"
   },
   {
    "duration": 9,
    "start_time": "2023-03-22T08:48:59.775Z"
   },
   {
    "duration": 10,
    "start_time": "2023-03-22T08:49:10.249Z"
   },
   {
    "duration": 11,
    "start_time": "2023-03-22T08:49:25.590Z"
   },
   {
    "duration": 26,
    "start_time": "2023-03-22T08:50:08.277Z"
   },
   {
    "duration": 8,
    "start_time": "2023-03-22T08:54:09.438Z"
   },
   {
    "duration": 102,
    "start_time": "2023-03-22T08:54:26.373Z"
   },
   {
    "duration": 729,
    "start_time": "2023-03-22T08:54:28.820Z"
   },
   {
    "duration": 23,
    "start_time": "2023-03-22T08:55:03.288Z"
   },
   {
    "duration": 511,
    "start_time": "2023-03-22T08:55:16.020Z"
   },
   {
    "duration": 4,
    "start_time": "2023-03-22T09:01:29.565Z"
   },
   {
    "duration": 7,
    "start_time": "2023-03-22T09:04:17.174Z"
   },
   {
    "duration": 10,
    "start_time": "2023-03-22T09:04:27.820Z"
   },
   {
    "duration": 249,
    "start_time": "2023-03-22T09:05:09.482Z"
   },
   {
    "duration": 2144,
    "start_time": "2023-03-22T09:07:27.190Z"
   },
   {
    "duration": 716,
    "start_time": "2023-03-22T09:08:00.860Z"
   },
   {
    "duration": 2124,
    "start_time": "2023-03-22T09:09:21.272Z"
   },
   {
    "duration": 121,
    "start_time": "2023-03-22T09:11:13.176Z"
   },
   {
    "duration": 238,
    "start_time": "2023-03-22T09:11:26.970Z"
   },
   {
    "duration": 24,
    "start_time": "2023-03-22T09:12:36.829Z"
   },
   {
    "duration": 2,
    "start_time": "2023-03-22T09:14:09.928Z"
   },
   {
    "duration": 9,
    "start_time": "2023-03-22T09:27:37.481Z"
   },
   {
    "duration": 547,
    "start_time": "2023-03-22T09:27:44.721Z"
   },
   {
    "duration": 2317,
    "start_time": "2023-03-22T09:43:42.450Z"
   },
   {
    "duration": 77,
    "start_time": "2023-03-22T09:43:44.769Z"
   },
   {
    "duration": 86,
    "start_time": "2023-03-22T09:43:44.848Z"
   },
   {
    "duration": 10,
    "start_time": "2023-03-22T09:43:44.937Z"
   },
   {
    "duration": 15,
    "start_time": "2023-03-22T09:43:44.949Z"
   },
   {
    "duration": 27,
    "start_time": "2023-03-22T09:43:44.966Z"
   },
   {
    "duration": 36,
    "start_time": "2023-03-22T09:43:44.995Z"
   },
   {
    "duration": 17,
    "start_time": "2023-03-22T09:43:45.033Z"
   },
   {
    "duration": 51,
    "start_time": "2023-03-22T09:43:45.052Z"
   },
   {
    "duration": 17,
    "start_time": "2023-03-22T09:43:45.106Z"
   },
   {
    "duration": 42,
    "start_time": "2023-03-22T09:43:45.125Z"
   },
   {
    "duration": 502,
    "start_time": "2023-03-22T09:43:45.169Z"
   },
   {
    "duration": 847,
    "start_time": "2023-03-22T09:43:45.673Z"
   },
   {
    "duration": 90,
    "start_time": "2023-03-22T09:43:46.522Z"
   },
   {
    "duration": 651,
    "start_time": "2023-03-22T09:43:46.616Z"
   },
   {
    "duration": 4,
    "start_time": "2023-03-22T09:43:47.269Z"
   },
   {
    "duration": 24,
    "start_time": "2023-03-22T09:43:47.275Z"
   },
   {
    "duration": 359,
    "start_time": "2023-03-22T09:43:47.301Z"
   },
   {
    "duration": 930,
    "start_time": "2023-03-22T09:43:47.662Z"
   },
   {
    "duration": 2665,
    "start_time": "2023-03-22T09:43:48.598Z"
   },
   {
    "duration": 267,
    "start_time": "2023-03-22T09:43:51.265Z"
   },
   {
    "duration": 26,
    "start_time": "2023-03-22T09:43:51.534Z"
   },
   {
    "duration": 51,
    "start_time": "2023-03-23T09:42:44.364Z"
   },
   {
    "duration": 1344,
    "start_time": "2023-03-23T09:43:09.964Z"
   },
   {
    "duration": 108,
    "start_time": "2023-03-23T09:43:11.310Z"
   },
   {
    "duration": 52,
    "start_time": "2023-03-23T09:43:11.421Z"
   },
   {
    "duration": 8,
    "start_time": "2023-03-23T09:43:11.475Z"
   },
   {
    "duration": 13,
    "start_time": "2023-03-23T09:43:11.486Z"
   },
   {
    "duration": 12,
    "start_time": "2023-03-23T09:43:11.502Z"
   },
   {
    "duration": 46,
    "start_time": "2023-03-23T09:43:11.516Z"
   },
   {
    "duration": 18,
    "start_time": "2023-03-23T09:43:11.564Z"
   },
   {
    "duration": 27,
    "start_time": "2023-03-23T09:43:11.583Z"
   },
   {
    "duration": 36,
    "start_time": "2023-03-23T09:43:11.612Z"
   },
   {
    "duration": 42,
    "start_time": "2023-03-23T09:43:11.650Z"
   },
   {
    "duration": 684,
    "start_time": "2023-03-23T09:43:11.695Z"
   },
   {
    "duration": 791,
    "start_time": "2023-03-23T09:43:12.381Z"
   },
   {
    "duration": 104,
    "start_time": "2023-03-23T09:43:13.175Z"
   },
   {
    "duration": 0,
    "start_time": "2023-03-23T09:43:13.282Z"
   },
   {
    "duration": 0,
    "start_time": "2023-03-23T09:43:13.283Z"
   },
   {
    "duration": 0,
    "start_time": "2023-03-23T09:43:13.286Z"
   },
   {
    "duration": 0,
    "start_time": "2023-03-23T09:43:13.287Z"
   },
   {
    "duration": 0,
    "start_time": "2023-03-23T09:43:13.288Z"
   },
   {
    "duration": 0,
    "start_time": "2023-03-23T09:43:13.289Z"
   },
   {
    "duration": 0,
    "start_time": "2023-03-23T09:43:13.291Z"
   },
   {
    "duration": 0,
    "start_time": "2023-03-23T09:43:13.293Z"
   },
   {
    "duration": 0,
    "start_time": "2023-03-23T09:49:01.706Z"
   },
   {
    "duration": 0,
    "start_time": "2023-03-23T09:49:01.708Z"
   },
   {
    "duration": 0,
    "start_time": "2023-03-23T09:49:01.710Z"
   },
   {
    "duration": 0,
    "start_time": "2023-03-23T09:49:01.712Z"
   },
   {
    "duration": 0,
    "start_time": "2023-03-23T09:49:01.748Z"
   },
   {
    "duration": 0,
    "start_time": "2023-03-23T09:49:01.751Z"
   },
   {
    "duration": 0,
    "start_time": "2023-03-23T09:49:01.753Z"
   },
   {
    "duration": 0,
    "start_time": "2023-03-23T09:49:01.756Z"
   },
   {
    "duration": 0,
    "start_time": "2023-03-23T09:49:01.758Z"
   },
   {
    "duration": 0,
    "start_time": "2023-03-23T09:49:01.761Z"
   },
   {
    "duration": 0,
    "start_time": "2023-03-23T09:49:01.763Z"
   },
   {
    "duration": 0,
    "start_time": "2023-03-23T09:49:01.765Z"
   },
   {
    "duration": 0,
    "start_time": "2023-03-23T09:49:01.768Z"
   },
   {
    "duration": 0,
    "start_time": "2023-03-23T09:49:01.770Z"
   },
   {
    "duration": 0,
    "start_time": "2023-03-23T09:49:01.773Z"
   },
   {
    "duration": 0,
    "start_time": "2023-03-23T09:49:01.774Z"
   },
   {
    "duration": 0,
    "start_time": "2023-03-23T09:49:01.777Z"
   },
   {
    "duration": 0,
    "start_time": "2023-03-23T09:49:01.779Z"
   },
   {
    "duration": 0,
    "start_time": "2023-03-23T09:49:01.781Z"
   },
   {
    "duration": 0,
    "start_time": "2023-03-23T09:49:01.843Z"
   },
   {
    "duration": 0,
    "start_time": "2023-03-23T09:49:01.845Z"
   },
   {
    "duration": 55,
    "start_time": "2023-03-23T09:49:03.593Z"
   },
   {
    "duration": 5,
    "start_time": "2023-03-23T09:49:09.170Z"
   },
   {
    "duration": 52,
    "start_time": "2023-03-23T09:49:10.173Z"
   },
   {
    "duration": 71,
    "start_time": "2023-03-23T09:49:11.232Z"
   },
   {
    "duration": 13,
    "start_time": "2023-03-23T09:49:14.863Z"
   },
   {
    "duration": 13,
    "start_time": "2023-03-23T09:49:15.232Z"
   },
   {
    "duration": 14,
    "start_time": "2023-03-23T09:49:17.193Z"
   },
   {
    "duration": 24,
    "start_time": "2023-03-23T09:49:17.831Z"
   },
   {
    "duration": 13,
    "start_time": "2023-03-23T09:49:20.510Z"
   },
   {
    "duration": 27,
    "start_time": "2023-03-23T09:49:21.673Z"
   },
   {
    "duration": 13,
    "start_time": "2023-03-23T09:49:24.524Z"
   },
   {
    "duration": 32,
    "start_time": "2023-03-23T09:49:26.855Z"
   },
   {
    "duration": 139,
    "start_time": "2023-03-23T09:49:32.238Z"
   },
   {
    "duration": 0,
    "start_time": "2023-03-23T09:51:25.354Z"
   },
   {
    "duration": 1086,
    "start_time": "2023-03-23T09:51:29.844Z"
   },
   {
    "duration": 10373,
    "start_time": "2023-03-23T09:51:44.828Z"
   },
   {
    "duration": 68,
    "start_time": "2023-03-23T10:00:19.026Z"
   },
   {
    "duration": 1294,
    "start_time": "2023-03-23T10:00:26.390Z"
   },
   {
    "duration": 62,
    "start_time": "2023-03-23T10:00:28.238Z"
   },
   {
    "duration": 55,
    "start_time": "2023-03-23T10:00:29.031Z"
   },
   {
    "duration": 9,
    "start_time": "2023-03-23T10:00:29.646Z"
   },
   {
    "duration": 12,
    "start_time": "2023-03-23T10:00:29.868Z"
   },
   {
    "duration": 13,
    "start_time": "2023-03-23T10:00:30.479Z"
   },
   {
    "duration": 24,
    "start_time": "2023-03-23T10:00:30.665Z"
   },
   {
    "duration": 14,
    "start_time": "2023-03-23T10:00:31.244Z"
   },
   {
    "duration": 22,
    "start_time": "2023-03-23T10:00:31.436Z"
   },
   {
    "duration": 14,
    "start_time": "2023-03-23T10:00:32.037Z"
   },
   {
    "duration": 44,
    "start_time": "2023-03-23T10:00:33.177Z"
   },
   {
    "duration": 533,
    "start_time": "2023-03-23T10:00:36.124Z"
   },
   {
    "duration": 16757,
    "start_time": "2023-03-23T10:00:40.843Z"
   },
   {
    "duration": 16872,
    "start_time": "2023-03-23T10:02:44.670Z"
   },
   {
    "duration": 129,
    "start_time": "2023-03-23T10:03:25.674Z"
   },
   {
    "duration": 79,
    "start_time": "2023-03-23T10:03:32.445Z"
   },
   {
    "duration": 32,
    "start_time": "2023-03-23T10:03:42.838Z"
   },
   {
    "duration": 29,
    "start_time": "2023-03-23T10:04:33.667Z"
   },
   {
    "duration": 109,
    "start_time": "2023-03-23T10:04:58.846Z"
   },
   {
    "duration": 15762,
    "start_time": "2023-03-23T10:05:31.478Z"
   },
   {
    "duration": 11,
    "start_time": "2023-03-23T10:46:58.081Z"
   },
   {
    "duration": 5,
    "start_time": "2023-03-23T10:47:01.932Z"
   },
   {
    "duration": 12,
    "start_time": "2023-03-23T10:47:02.843Z"
   },
   {
    "duration": 293,
    "start_time": "2023-03-23T10:47:20.143Z"
   },
   {
    "duration": 13,
    "start_time": "2023-03-23T10:49:27.243Z"
   },
   {
    "duration": 22,
    "start_time": "2023-03-23T10:49:50.723Z"
   },
   {
    "duration": 4,
    "start_time": "2023-03-23T10:50:59.771Z"
   },
   {
    "duration": 12,
    "start_time": "2023-03-23T10:51:00.332Z"
   },
   {
    "duration": 13,
    "start_time": "2023-03-23T10:51:38.207Z"
   },
   {
    "duration": 18,
    "start_time": "2023-03-23T10:52:15.394Z"
   },
   {
    "duration": 1381,
    "start_time": "2023-03-23T10:52:16.143Z"
   },
   {
    "duration": 72,
    "start_time": "2023-03-23T10:53:00.079Z"
   },
   {
    "duration": 729,
    "start_time": "2023-03-23T10:54:08.031Z"
   },
   {
    "duration": 44,
    "start_time": "2023-03-23T10:54:49.987Z"
   },
   {
    "duration": 796,
    "start_time": "2023-03-23T10:55:43.041Z"
   },
   {
    "duration": 155,
    "start_time": "2023-03-23T11:00:31.403Z"
   },
   {
    "duration": 152,
    "start_time": "2023-03-23T11:00:37.340Z"
   },
   {
    "duration": 20,
    "start_time": "2023-03-23T11:00:51.240Z"
   },
   {
    "duration": 16,
    "start_time": "2023-03-23T11:00:56.902Z"
   },
   {
    "duration": 144,
    "start_time": "2023-03-23T11:01:02.220Z"
   },
   {
    "duration": 147,
    "start_time": "2023-03-23T11:04:52.751Z"
   },
   {
    "duration": 136,
    "start_time": "2023-03-23T11:05:03.364Z"
   },
   {
    "duration": 127,
    "start_time": "2023-03-23T11:05:44.371Z"
   }
  ],
  "kernelspec": {
   "display_name": "Python 3 (ipykernel)",
   "language": "python",
   "name": "python3"
  },
  "language_info": {
   "codemirror_mode": {
    "name": "ipython",
    "version": 3
   },
   "file_extension": ".py",
   "mimetype": "text/x-python",
   "name": "python",
   "nbconvert_exporter": "python",
   "pygments_lexer": "ipython3",
   "version": "3.9.5"
  },
  "toc": {
   "base_numbering": 1,
   "nav_menu": {},
   "number_sections": true,
   "sideBar": true,
   "skip_h1_title": true,
   "title_cell": "Содержание",
   "title_sidebar": "Contents",
   "toc_cell": true,
   "toc_position": {},
   "toc_section_display": true,
   "toc_window_display": false
  }
 },
 "nbformat": 4,
 "nbformat_minor": 2
}
